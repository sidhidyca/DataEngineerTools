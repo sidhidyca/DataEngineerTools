{
 "cells": [
  {
   "cell_type": "markdown",
   "metadata": {},
   "source": [
    "#  Consignes\n",
    "\n",
    "## Description\n",
    "\n",
    "Ouvrir le fichier ks-projects-201801.csv, il recense environ 100 000 projets KickStarter. Intégrer les données directement avec L'API Python dans une base de données Mongo. \n",
    "\n",
    "Il conviendra de bien spécifier manuellement l'ID du document. Pensez aussi à bien formatter le type des données pour profiter des méthodes implémentées par Mongo. L'ensemble de données n'est pas forcément nécessaire, c'est à vous de créer votre modèle de données.\n",
    "\n",
    "## Questions\n",
    "\n",
    "- 1) Récupérer les 5 projets ayant reçu le plus de promesse de dons.\n",
    "- 2) Compter le nombre de projets ayant atteint leur but.\n",
    "- 3) Compter le nombre de projets pour chaque catégorie.\n",
    "- 4) Compter le nombre de projets français ayant été instanciés avant 2016.\n",
    "- 5) Récupérer les projets américains ayant demandé plus de 200 000 dollars.\n",
    "- 6) Compter le nombre de projet ayant \"Sport\" dans leur nom"
   ]
  },
  {
   "cell_type": "code",
   "execution_count": 1,
   "metadata": {},
   "outputs": [
    {
     "name": "stdout",
     "output_type": "stream",
     "text": [
      "Requirement already satisfied: pymongo in /root/.local/share/virtualenvs/code-AFz48Hjb/lib/python3.8/site-packages (3.11.0)\r\n"
     ]
    }
   ],
   "source": [
    "!pip install pymongo"
   ]
  },
  {
   "cell_type": "code",
   "execution_count": 2,
   "metadata": {},
   "outputs": [
    {
     "name": "stderr",
     "output_type": "stream",
     "text": [
      "/root/.local/share/virtualenvs/code-AFz48Hjb/lib/python3.8/site-packages/requests/__init__.py:89: RequestsDependencyWarning: urllib3 (1.26.7) or chardet (3.0.4) doesn't match a supported version!\n",
      "  warnings.warn(\"urllib3 ({}) or chardet ({}) doesn't match a supported \"\n"
     ]
    }
   ],
   "source": [
    "import pandas as pd\n",
    "import pymongo"
   ]
  },
  {
   "cell_type": "code",
   "execution_count": 3,
   "metadata": {},
   "outputs": [],
   "source": [
    "client = pymongo.MongoClient('mongo')\n",
    "database = client['exercices']\n",
    "collection = database['kickstarter']"
   ]
  },
  {
   "cell_type": "code",
   "execution_count": 4,
   "metadata": {},
   "outputs": [
    {
     "name": "stderr",
     "output_type": "stream",
     "text": [
      "/root/.local/share/virtualenvs/code-AFz48Hjb/lib/python3.8/site-packages/IPython/core/interactiveshell.py:3172: DtypeWarning: Columns (6,8,10,12) have mixed types.Specify dtype option on import or set low_memory=False.\n",
      "  has_raised = await self.run_ast_nodes(code_ast.body, cell_name,\n"
     ]
    },
    {
     "data": {
      "text/html": [
       "<div>\n",
       "<style scoped>\n",
       "    .dataframe tbody tr th:only-of-type {\n",
       "        vertical-align: middle;\n",
       "    }\n",
       "\n",
       "    .dataframe tbody tr th {\n",
       "        vertical-align: top;\n",
       "    }\n",
       "\n",
       "    .dataframe thead th {\n",
       "        text-align: right;\n",
       "    }\n",
       "</style>\n",
       "<table border=\"1\" class=\"dataframe\">\n",
       "  <thead>\n",
       "    <tr style=\"text-align: right;\">\n",
       "      <th></th>\n",
       "      <th>ID</th>\n",
       "      <th>name</th>\n",
       "      <th>category</th>\n",
       "      <th>main_category</th>\n",
       "      <th>currency</th>\n",
       "      <th>deadline</th>\n",
       "      <th>goal</th>\n",
       "      <th>launched</th>\n",
       "      <th>pledged</th>\n",
       "      <th>state</th>\n",
       "      <th>backers</th>\n",
       "      <th>country</th>\n",
       "      <th>usd pledged</th>\n",
       "      <th>usd_pledged_real</th>\n",
       "    </tr>\n",
       "  </thead>\n",
       "  <tbody>\n",
       "    <tr>\n",
       "      <th>0</th>\n",
       "      <td>872782264</td>\n",
       "      <td>Scott Cooper's Solo CD \"A Leg Trick\" (Canceled)</td>\n",
       "      <td>Rock</td>\n",
       "      <td>Music</td>\n",
       "      <td>USD</td>\n",
       "      <td>2011-09-16</td>\n",
       "      <td>2000</td>\n",
       "      <td>2011-08-17 06:31:31</td>\n",
       "      <td>1145</td>\n",
       "      <td>canceled</td>\n",
       "      <td>24</td>\n",
       "      <td>US</td>\n",
       "      <td>1145</td>\n",
       "      <td>1145.000000</td>\n",
       "    </tr>\n",
       "    <tr>\n",
       "      <th>1</th>\n",
       "      <td>1326492673</td>\n",
       "      <td>Ohceola jewelry</td>\n",
       "      <td>Fashion</td>\n",
       "      <td>Fashion</td>\n",
       "      <td>USD</td>\n",
       "      <td>2012-08-22</td>\n",
       "      <td>18000</td>\n",
       "      <td>2012-07-23 20:46:48</td>\n",
       "      <td>1851</td>\n",
       "      <td>failed</td>\n",
       "      <td>28</td>\n",
       "      <td>US</td>\n",
       "      <td>1851</td>\n",
       "      <td>1851.000000</td>\n",
       "    </tr>\n",
       "    <tr>\n",
       "      <th>2</th>\n",
       "      <td>1688410639</td>\n",
       "      <td>Sluff Off &amp; Harald: Two latest EGGs are Classi...</td>\n",
       "      <td>Tabletop Games</td>\n",
       "      <td>Games</td>\n",
       "      <td>USD</td>\n",
       "      <td>2016-07-19</td>\n",
       "      <td>2000</td>\n",
       "      <td>2016-07-01 21:55:54</td>\n",
       "      <td>7534</td>\n",
       "      <td>successful</td>\n",
       "      <td>254</td>\n",
       "      <td>US</td>\n",
       "      <td>3796</td>\n",
       "      <td>7534.000000</td>\n",
       "    </tr>\n",
       "    <tr>\n",
       "      <th>3</th>\n",
       "      <td>156812982</td>\n",
       "      <td>SketchPlanner: Create and Plan- all in one bea...</td>\n",
       "      <td>Art Books</td>\n",
       "      <td>Publishing</td>\n",
       "      <td>USD</td>\n",
       "      <td>2017-09-27</td>\n",
       "      <td>13000</td>\n",
       "      <td>2017-08-28 15:47:02</td>\n",
       "      <td>16298</td>\n",
       "      <td>successful</td>\n",
       "      <td>367</td>\n",
       "      <td>US</td>\n",
       "      <td>2670</td>\n",
       "      <td>16298.000000</td>\n",
       "    </tr>\n",
       "    <tr>\n",
       "      <th>4</th>\n",
       "      <td>1835968190</td>\n",
       "      <td>Proven sales with custom motorcycle accessories</td>\n",
       "      <td>Sculpture</td>\n",
       "      <td>Art</td>\n",
       "      <td>CAD</td>\n",
       "      <td>2016-02-24</td>\n",
       "      <td>5000</td>\n",
       "      <td>2016-01-25 17:37:10</td>\n",
       "      <td>1</td>\n",
       "      <td>failed</td>\n",
       "      <td>1</td>\n",
       "      <td>CA</td>\n",
       "      <td>0.708148</td>\n",
       "      <td>0.738225</td>\n",
       "    </tr>\n",
       "  </tbody>\n",
       "</table>\n",
       "</div>"
      ],
      "text/plain": [
       "           ID                                               name  \\\n",
       "0   872782264    Scott Cooper's Solo CD \"A Leg Trick\" (Canceled)   \n",
       "1  1326492673                                    Ohceola jewelry   \n",
       "2  1688410639  Sluff Off & Harald: Two latest EGGs are Classi...   \n",
       "3   156812982  SketchPlanner: Create and Plan- all in one bea...   \n",
       "4  1835968190    Proven sales with custom motorcycle accessories   \n",
       "\n",
       "         category main_category currency    deadline   goal  \\\n",
       "0            Rock         Music      USD  2011-09-16   2000   \n",
       "1         Fashion       Fashion      USD  2012-08-22  18000   \n",
       "2  Tabletop Games         Games      USD  2016-07-19   2000   \n",
       "3       Art Books    Publishing      USD  2017-09-27  13000   \n",
       "4       Sculpture           Art      CAD  2016-02-24   5000   \n",
       "\n",
       "              launched pledged       state backers country usd pledged  \\\n",
       "0  2011-08-17 06:31:31    1145    canceled      24      US        1145   \n",
       "1  2012-07-23 20:46:48    1851      failed      28      US        1851   \n",
       "2  2016-07-01 21:55:54    7534  successful     254      US        3796   \n",
       "3  2017-08-28 15:47:02   16298  successful     367      US        2670   \n",
       "4  2016-01-25 17:37:10       1      failed       1      CA    0.708148   \n",
       "\n",
       "   usd_pledged_real  \n",
       "0       1145.000000  \n",
       "1       1851.000000  \n",
       "2       7534.000000  \n",
       "3      16298.000000  \n",
       "4          0.738225  "
      ]
     },
     "execution_count": 4,
     "metadata": {},
     "output_type": "execute_result"
    }
   ],
   "source": [
    "df_ks = pd.read_csv(\"./data/ks-projects-201801-sample.csv\")\n",
    "df_ks.head()"
   ]
  },
  {
   "cell_type": "markdown",
   "metadata": {},
   "source": [
    "Ce warning intervient lorsque pandas n'arrive pas à inférer le type de données. Il est sympa il précise les colones 6,8,10,12. "
   ]
  },
  {
   "cell_type": "code",
   "execution_count": 6,
   "metadata": {
    "scrolled": true
   },
   "outputs": [
    {
     "data": {
      "text/plain": [
       "Index(['goal', 'pledged', 'backers', 'usd pledged'], dtype='object')"
      ]
     },
     "execution_count": 6,
     "metadata": {},
     "output_type": "execute_result"
    }
   ],
   "source": [
    "df_ks.columns[[6,8,10,12]]"
   ]
  },
  {
   "cell_type": "markdown",
   "metadata": {},
   "source": [
    "## Question 0"
   ]
  },
  {
   "cell_type": "markdown",
   "metadata": {},
   "source": [
    "### Netoyer les données"
   ]
  },
  {
   "cell_type": "code",
   "execution_count": 7,
   "metadata": {},
   "outputs": [
    {
     "data": {
      "text/plain": [
       "(150000, 14)"
      ]
     },
     "execution_count": 7,
     "metadata": {},
     "output_type": "execute_result"
    }
   ],
   "source": [
    "df_ks.shape"
   ]
  },
  {
   "cell_type": "markdown",
   "metadata": {
    "slideshow": {
     "slide_type": "slide"
    }
   },
   "source": [
    "### Importer les données"
   ]
  },
  {
   "cell_type": "code",
   "execution_count": 8,
   "metadata": {},
   "outputs": [],
   "source": [
    "df_ks = df_ks.to_json(orient=\"records\")"
   ]
  },
  {
   "cell_type": "code",
   "execution_count": 9,
   "metadata": {},
   "outputs": [],
   "source": [
    "import json\n",
    "\n",
    "df_ks = json.loads(df_ks)"
   ]
  },
  {
   "cell_type": "code",
   "execution_count": 10,
   "metadata": {},
   "outputs": [
    {
     "data": {
      "text/plain": [
       "<pymongo.results.InsertManyResult at 0x7ff21a5208c0>"
      ]
     },
     "execution_count": 10,
     "metadata": {},
     "output_type": "execute_result"
    }
   ],
   "source": [
    "collection.insert_many(df_ks)"
   ]
  },
  {
   "cell_type": "markdown",
   "metadata": {},
   "source": [
    "## Question 1  "
   ]
  },
  {
   "cell_type": "code",
   "execution_count": 11,
   "metadata": {
    "scrolled": true
   },
   "outputs": [
    {
     "data": {
      "text/plain": [
       "[{'_id': ObjectId('61f77537cf6fb2fbce0210b5'),\n",
       "  'ID': 218218259,\n",
       "  'name': 'True North ï¿½ Repurposed Sailcloth Products',\n",
       "  'category': 'Product Design',\n",
       "  'main_category': 'Design',\n",
       "  'currency': 'USD',\n",
       "  'deadline': '2016-06-14',\n",
       "  'goal': '7500.0',\n",
       "  'launched': '2016-05-10 15:53:56',\n",
       "  'pledged': '9996.0',\n",
       "  'state': 'successful',\n",
       "  'backers': '50',\n",
       "  'country': 'US',\n",
       "  'usd pledged': '9996.0',\n",
       "  'usd_pledged_real': 9996.0},\n",
       " {'_id': ObjectId('61f77537cf6fb2fbce01bf93'),\n",
       "  'ID': 1712352341,\n",
       "  'name': 'Scott Davis - Solo Record',\n",
       "  'category': 'Music',\n",
       "  'main_category': 'Music',\n",
       "  'currency': 'USD',\n",
       "  'deadline': '2014-11-22',\n",
       "  'goal': '8000.0',\n",
       "  'launched': '2014-10-23 20:06:37',\n",
       "  'pledged': '9995.0',\n",
       "  'state': 'undefined',\n",
       "  'backers': '0',\n",
       "  'country': 'N,0\"',\n",
       "  'usd pledged': None,\n",
       "  'usd_pledged_real': 9995.0},\n",
       " {'_id': ObjectId('61f77537cf6fb2fbce019743'),\n",
       "  'ID': 1742823215,\n",
       "  'name': 'Polco: A Digital Platform for Better Civic Communication',\n",
       "  'category': 'Web',\n",
       "  'main_category': 'Technology',\n",
       "  'currency': 'USD',\n",
       "  'deadline': '2017-08-11',\n",
       "  'goal': '35000.0',\n",
       "  'launched': '2017-06-27 21:46:04',\n",
       "  'pledged': '9994.0',\n",
       "  'state': 'failed',\n",
       "  'backers': '93',\n",
       "  'country': 'US',\n",
       "  'usd pledged': '876.0',\n",
       "  'usd_pledged_real': 9994.0},\n",
       " {'_id': ObjectId('61f77537cf6fb2fbce017d18'),\n",
       "  'ID': 1247285954,\n",
       "  'name': '2016 Gaming Calendar',\n",
       "  'category': 'Tabletop Games',\n",
       "  'main_category': 'Games',\n",
       "  'currency': 'USD',\n",
       "  'deadline': '2015-07-25',\n",
       "  'goal': '3000.0',\n",
       "  'launched': '2015-06-26 14:57:14',\n",
       "  'pledged': '9994.0',\n",
       "  'state': 'successful',\n",
       "  'backers': '258',\n",
       "  'country': 'US',\n",
       "  'usd pledged': '9994.0',\n",
       "  'usd_pledged_real': 9994.0},\n",
       " {'_id': ObjectId('61f77537cf6fb2fbce01b0ad'),\n",
       "  'ID': 796104705,\n",
       "  'name': 'The Girl in The Mountain - Film',\n",
       "  'category': 'Science Fiction',\n",
       "  'main_category': 'Film & Video',\n",
       "  'currency': 'GBP',\n",
       "  'deadline': '2015-10-01',\n",
       "  'goal': '6500.0',\n",
       "  'launched': '2015-08-31 02:11:11',\n",
       "  'pledged': '999.0',\n",
       "  'state': 'failed',\n",
       "  'backers': '12',\n",
       "  'country': 'GB',\n",
       "  'usd pledged': '1537.65168912',\n",
       "  'usd_pledged_real': 1515.1974761876}]"
      ]
     },
     "execution_count": 11,
     "metadata": {},
     "output_type": "execute_result"
    }
   ],
   "source": [
    "cur = collection.find().sort([(\"pledged\", -1)]).limit(5)\n",
    "list(cur)"
   ]
  },
  {
   "cell_type": "markdown",
   "metadata": {},
   "source": [
    "## Question 2"
   ]
  },
  {
   "cell_type": "code",
   "execution_count": 12,
   "metadata": {},
   "outputs": [
    {
     "name": "stderr",
     "output_type": "stream",
     "text": [
      "/tmp/ipykernel_15/1067602021.py:1: DeprecationWarning: count is deprecated. Use Collection.count_documents instead.\n",
      "  count_cur = collection.find({\"state\":\"successful\"}).count()\n"
     ]
    },
    {
     "data": {
      "text/plain": [
       "53040"
      ]
     },
     "execution_count": 12,
     "metadata": {},
     "output_type": "execute_result"
    }
   ],
   "source": [
    "count_cur = collection.find({\"state\":\"successful\"}).count()\n",
    "count_cur"
   ]
  },
  {
   "cell_type": "markdown",
   "metadata": {},
   "source": [
    "## Question 3"
   ]
  },
  {
   "cell_type": "code",
   "execution_count": 13,
   "metadata": {},
   "outputs": [
    {
     "data": {
      "text/plain": [
       "[{'_id': 'DIY Electronics', 'Count': 358},\n",
       " {'_id': 'Plays', 'Count': 539},\n",
       " {'_id': 'Printing', 'Count': 83},\n",
       " {'_id': 'Space Exploration', 'Count': 137},\n",
       " {'_id': 'Hip-Hop', 'Count': 1555},\n",
       " {'_id': 'Illustration', 'Count': 1263},\n",
       " {'_id': 'Crafts', 'Count': 1834},\n",
       " {'_id': 'Couture', 'Count': 108},\n",
       " {'_id': 'Horror', 'Count': 525},\n",
       " {'_id': 'Installations', 'Count': 178},\n",
       " {'_id': 'World Music', 'Count': 850},\n",
       " {'_id': 'Ready-to-wear', 'Count': 332},\n",
       " {'_id': 'Blues', 'Count': 113},\n",
       " {'_id': 'Digital Art', 'Count': 524},\n",
       " {'_id': 'Musical', 'Count': 367},\n",
       " {'_id': 'Workshops', 'Count': 59},\n",
       " {'_id': 'Bacon', 'Count': 78},\n",
       " {'_id': 'Pet Fashion', 'Count': 51},\n",
       " {'_id': 'Web', 'Count': 2017},\n",
       " {'_id': 'Art', 'Count': 3358},\n",
       " {'_id': 'Farms', 'Count': 482},\n",
       " {'_id': 'Video Art', 'Count': 65},\n",
       " {'_id': 'Candles', 'Count': 168},\n",
       " {'_id': 'Shorts', 'Count': 4857},\n",
       " {'_id': 'Gadgets', 'Count': 1210},\n",
       " {'_id': 'Fine Art', 'Count': 291},\n",
       " {'_id': 'Places', 'Count': 283},\n",
       " {'_id': 'Camera Equipment', 'Count': 165},\n",
       " {'_id': 'Architecture', 'Count': 300},\n",
       " {'_id': 'Journalism', 'Count': 672},\n",
       " {'_id': 'Webseries', 'Count': 2316},\n",
       " {'_id': 'Metal', 'Count': 274},\n",
       " {'_id': 'Latin', 'Count': 63},\n",
       " {'_id': 'Design', 'Count': 1641},\n",
       " {'_id': 'Events', 'Count': 322},\n",
       " {'_id': 'Accessories', 'Count': 1204},\n",
       " {'_id': 'Classical Music', 'Count': 1064},\n",
       " {'_id': 'Sculpture', 'Count': 737},\n",
       " {'_id': 'Fashion', 'Count': 3379},\n",
       " {'_id': 'Hardware', 'Count': 1431},\n",
       " {'_id': 'Playing Cards', 'Count': 963},\n",
       " {'_id': 'Product Design', 'Count': 8886},\n",
       " {'_id': 'Residencies', 'Count': 32},\n",
       " {'_id': 'Restaurants', 'Count': 1089},\n",
       " {'_id': 'Childrenswear', 'Count': 192},\n",
       " {'_id': 'Pottery', 'Count': 40},\n",
       " {'_id': 'Video', 'Count': 147},\n",
       " {'_id': 'Literary Journals', 'Count': 118},\n",
       " {'_id': 'Tabletop Games', 'Count': 5581},\n",
       " {'_id': 'Cookbooks', 'Count': 217},\n",
       " {'_id': 'Knitting', 'Count': 78},\n",
       " {'_id': 'Crochet', 'Count': 61},\n",
       " {'_id': 'Nonfiction', 'Count': 3390},\n",
       " {'_id': 'Small Batch', 'Count': 701},\n",
       " {'_id': 'Young Adult', 'Count': 328},\n",
       " {'_id': 'Mixed Media', 'Count': 1118},\n",
       " {'_id': 'Radio & Podcasts', 'Count': 349},\n",
       " {'_id': 'Embroidery', 'Count': 49},\n",
       " {'_id': 'Textiles', 'Count': 105},\n",
       " {'_id': 'Comedy', 'Count': 923},\n",
       " {'_id': 'Anthologies', 'Count': 300},\n",
       " {'_id': 'Grace is Leaving', 'Count': 1},\n",
       " {'_id': 'Science Fiction', 'Count': 274},\n",
       " {'_id': 'Spaces', 'Count': 331},\n",
       " {'_id': 'Painting', 'Count': 1288},\n",
       " {'_id': 'Fiction', 'Count': 3703},\n",
       " {'_id': 'People', 'Count': 440},\n",
       " {'_id': 'Vegan', 'Count': 229},\n",
       " {'_id': 'Print', 'Count': 288},\n",
       " {'_id': 'Music', 'Count': 6229},\n",
       " {'_id': 'Film & Video', 'Count': 4003},\n",
       " {'_id': 'Civic Design', 'Count': 130},\n",
       " {'_id': 'Software', 'Count': 1194},\n",
       " {'_id': 'Apparel', 'Count': 2827},\n",
       " {'_id': 'Woodworking', 'Count': 433},\n",
       " {'_id': 'Electronic Music', 'Count': 858},\n",
       " {'_id': 'Music Videos', 'Count': 299},\n",
       " {'_id': 'Webcomics', 'Count': 259},\n",
       " {'_id': 'Experimental', 'Count': 357},\n",
       " {'_id': 'Conceptual Art', 'Count': 393},\n",
       " {'_id': 'Art Books', 'Count': 1065},\n",
       " {'_id': 'Country & Folk', 'Count': 1790},\n",
       " {'_id': 'Calendars', 'Count': 112},\n",
       " {'_id': 'Interactive Design', 'Count': 146},\n",
       " {'_id': 'Action', 'Count': 282},\n",
       " {'_id': 'Academic', 'Count': 367},\n",
       " {'_id': 'Indie Rock', 'Count': 2192},\n",
       " {'_id': 'Thrillers', 'Count': 302},\n",
       " {'_id': 'Festivals', 'Count': 313},\n",
       " {'_id': 'Kids', 'Count': 109},\n",
       " {'_id': 'Letterpress', 'Count': 24},\n",
       " {'_id': 'Translations', 'Count': 76},\n",
       " {'_id': 'Technology', 'Count': 2690},\n",
       " {'_id': 'Sound', 'Count': 255},\n",
       " {'_id': 'Performance Art', 'Count': 855},\n",
       " {'_id': 'Video Games', 'Count': 4799},\n",
       " {'_id': 'Nature', 'Count': 219},\n",
       " {'_id': 'Comics', 'Count': 1931},\n",
       " {'_id': 'Mobile Games', 'Count': 650},\n",
       " {'_id': 'Periodicals', 'Count': 517},\n",
       " {'_id': \"Farmer's Markets\", 'Count': 175},\n",
       " {'_id': 'Animals', 'Count': 97},\n",
       " {'_id': 'Wearables', 'Count': 508},\n",
       " {'_id': 'Public Art', 'Count': 1248},\n",
       " {'_id': 'Flight', 'Count': 158},\n",
       " {'_id': 'Performances', 'Count': 414},\n",
       " {'_id': 'Rock', 'Count': 2707},\n",
       " {'_id': 'Gaming Hardware', 'Count': 178},\n",
       " {'_id': 'Poetry', 'Count': 532},\n",
       " {'_id': 'Puzzles', 'Count': 95},\n",
       " {'_id': 'Footwear', 'Count': 379},\n",
       " {'_id': 'Photography', 'Count': 2239},\n",
       " {'_id': 'Audio', 'Count': 164},\n",
       " {'_id': 'Makerspaces', 'Count': 91},\n",
       " {'_id': 'Fabrication Tools', 'Count': 96},\n",
       " {'_id': 'Family', 'Count': 130},\n",
       " {'_id': 'Publishing', 'Count': 2332},\n",
       " {'_id': 'Community Gardens', 'Count': 115},\n",
       " {'_id': 'Theater', 'Count': 2786},\n",
       " {'_id': 'Punk', 'Count': 127},\n",
       " {'_id': 'Movie Theaters', 'Count': 90},\n",
       " {'_id': 'Photobooks', 'Count': 608},\n",
       " {'_id': 'Graphic Design', 'Count': 765},\n",
       " {'_id': 'Weaving', 'Count': 38},\n",
       " {'_id': 'Television', 'Count': 401},\n",
       " {'_id': 'Zines', 'Count': 144},\n",
       " {'_id': 'Typography', 'Count': 44},\n",
       " {'_id': 'Games', 'Count': 1331},\n",
       " {'_id': '3D Printing', 'Count': 271},\n",
       " {'_id': 'DIY', 'Count': 480},\n",
       " {'_id': \"Children's Books\", 'Count': 2686},\n",
       " {'_id': 'Narrative Film', 'Count': 2099},\n",
       " {'_id': 'Jewelry', 'Count': 472},\n",
       " {'_id': 'Chiptune', 'Count': 10},\n",
       " {'_id': 'Live Games', 'Count': 394},\n",
       " {'_id': 'Literary Spaces', 'Count': 10},\n",
       " {'_id': 'Food Trucks', 'Count': 687},\n",
       " {'_id': 'Romance', 'Count': 74},\n",
       " {'_id': 'Stationery', 'Count': 90},\n",
       " {'_id': 'Dance', 'Count': 901},\n",
       " {'_id': 'R&B', 'Count': 172},\n",
       " {'_id': 'Drama', 'Count': 871},\n",
       " {'_id': 'Immersive', 'Count': 131},\n",
       " {'_id': 'Graphic Novels', 'Count': 702},\n",
       " {'_id': 'Pop', 'Count': 1302},\n",
       " {'_id': 'Fantasy', 'Count': 132},\n",
       " {'_id': 'Drinks', 'Count': 995},\n",
       " {'_id': 'Jazz', 'Count': 733},\n",
       " {'_id': 'Comic Books', 'Count': 1032},\n",
       " {'_id': 'Documentary', 'Count': 6498},\n",
       " {'_id': 'Faith', 'Count': 439},\n",
       " {'_id': 'Photo', 'Count': 58},\n",
       " {'_id': 'Animation', 'Count': 1017},\n",
       " {'_id': 'Ceramics', 'Count': 128},\n",
       " {'_id': 'Robots', 'Count': 237},\n",
       " {'_id': 'Glass', 'Count': 51},\n",
       " {'_id': 'Food', 'Count': 4612},\n",
       " {'_id': 'Apps', 'Count': 2535},\n",
       " {'_id': 'Quilts', 'Count': 32},\n",
       " {'_id': 'Taxidermy', 'Count': 7}]"
      ]
     },
     "execution_count": 13,
     "metadata": {},
     "output_type": "execute_result"
    }
   ],
   "source": [
    "cur = collection.aggregate([{\"$group\" : {\"_id\" : \"$category\", \"Count\" : {\"$sum\" : 1}}}])\n",
    "list(cur)"
   ]
  },
  {
   "cell_type": "markdown",
   "metadata": {},
   "source": [
    "## Question 4"
   ]
  },
  {
   "cell_type": "code",
   "execution_count": 14,
   "metadata": {},
   "outputs": [
    {
     "name": "stderr",
     "output_type": "stream",
     "text": [
      "/tmp/ipykernel_15/1721618137.py:1: DeprecationWarning: count is deprecated. Use Collection.count_documents instead.\n",
      "  count_cur = collection.find({\"$and\":[{\"country\":\"FR\"}, {\"launched\":{\"$lt\":\"2016-01-01\"}}]}).count()\n"
     ]
    },
    {
     "data": {
      "text/plain": [
       "330"
      ]
     },
     "execution_count": 14,
     "metadata": {},
     "output_type": "execute_result"
    }
   ],
   "source": [
    "count_cur = collection.find({\"$and\":[{\"country\":\"FR\"}, {\"launched\":{\"$lt\":\"2016-01-01\"}}]}).count()\n",
    "count_cur"
   ]
  },
  {
   "cell_type": "markdown",
   "metadata": {},
   "source": [
    "## Question 5"
   ]
  },
  {
   "cell_type": "code",
   "execution_count": 15,
   "metadata": {},
   "outputs": [
    {
     "data": {
      "text/plain": [
       "{'_id': ObjectId('61f77536cf6fb2fbce003b90'),\n",
       " 'ID': 217543389,\n",
       " 'name': 'The uKeg Pressurized Growler for Fresh Beer',\n",
       " 'category': 'Drinks',\n",
       " 'main_category': 'Food',\n",
       " 'currency': 'USD',\n",
       " 'deadline': '2014-12-08',\n",
       " 'goal': 75000.0,\n",
       " 'launched': '2014-10-15 06:34:48',\n",
       " 'pledged': 1559525.68,\n",
       " 'state': 'successful',\n",
       " 'backers': 10293,\n",
       " 'country': 'US',\n",
       " 'usd pledged': 1559525.68,\n",
       " 'usd_pledged_real': 1559525.68}"
      ]
     },
     "execution_count": 15,
     "metadata": {},
     "output_type": "execute_result"
    }
   ],
   "source": [
    "cur = collection.find({\"pledged\":{\"$gt\":200000}})\n",
    "next(cur)"
   ]
  },
  {
   "cell_type": "markdown",
   "metadata": {},
   "source": [
    "## Question 6 "
   ]
  },
  {
   "cell_type": "code",
   "execution_count": 16,
   "metadata": {},
   "outputs": [
    {
     "data": {
      "text/plain": [
       "{'_id': ObjectId('61f77536cf6fb2fbce003f60'),\n",
       " 'ID': 802281658,\n",
       " 'name': 'Sportswear range',\n",
       " 'category': 'Apparel',\n",
       " 'main_category': 'Fashion',\n",
       " 'currency': 'AUD',\n",
       " 'deadline': '2014-08-23',\n",
       " 'goal': 25000.0,\n",
       " 'launched': '2014-07-24 05:14:52',\n",
       " 'pledged': 20.0,\n",
       " 'state': 'failed',\n",
       " 'backers': 1,\n",
       " 'country': 'AU',\n",
       " 'usd pledged': 18.7569048,\n",
       " 'usd_pledged_real': 18.6758801008}"
      ]
     },
     "execution_count": 16,
     "metadata": {},
     "output_type": "execute_result"
    }
   ],
   "source": [
    "cur = collection.find({\"name\": {\"$regex\" : 'Sport'}})\n",
    "next(cur)"
   ]
  },
  {
   "cell_type": "code",
   "execution_count": null,
   "metadata": {},
   "outputs": [],
   "source": []
  }
 ],
 "metadata": {
  "kernelspec": {
   "display_name": "Python 3 (ipykernel)",
   "language": "python",
   "name": "python3"
  },
  "language_info": {
   "codemirror_mode": {
    "name": "ipython",
    "version": 3
   },
   "file_extension": ".py",
   "mimetype": "text/x-python",
   "name": "python",
   "nbconvert_exporter": "python",
   "pygments_lexer": "ipython3",
   "version": "3.8.12"
  }
 },
 "nbformat": 4,
 "nbformat_minor": 2
}
